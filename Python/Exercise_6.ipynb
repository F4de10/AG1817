{
 "cells": [
  {
   "cell_type": "markdown",
   "id": "dccd530fd55b8ada",
   "metadata": {},
   "source": [
    "# Övning 6 Geodetic astronomy "
   ]
  },
  {
   "cell_type": "code",
   "execution_count": 51,
   "id": "316f3dc71662d6c0",
   "metadata": {
    "ExecuteTime": {
     "end_time": "2023-12-11T15:41:39.908531Z",
     "start_time": "2023-12-11T15:41:39.829410Z"
    }
   },
   "outputs": [],
   "source": [
    "from methods_AG1817 import *"
   ]
  },
  {
   "cell_type": "markdown",
   "id": "6596943aff50a19a",
   "metadata": {},
   "source": [
    "# Problem 6.1\n",
    "\n",
    "    On March 1, 1981, UT1 = 0h the Equation of the Equinox (Eq:E) is -0.8s. compute for this epoch:\n",
    "\n",
    "\n"
   ]
  },
  {
   "cell_type": "markdown",
   "id": "dac67546a594953c",
   "metadata": {},
   "source": [
    "---\n",
    "a. JD\n",
    "$$ M > 2: y = Y = 1981, m = M = 3 \\\\\n",
    "JD = int(365.25 * Y) + int(30.6001 * (M + 1)) + D + UT1 / 24 + 1720981.5 $$\n"
   ]
  },
  {
   "cell_type": "code",
   "execution_count": 52,
   "id": "2fc76ea4ffd04390",
   "metadata": {
    "ExecuteTime": {
     "end_time": "2023-12-11T15:41:39.921002Z",
     "start_time": "2023-12-11T15:41:39.911723Z"
    }
   },
   "outputs": [
    {
     "name": "stdout",
     "output_type": "stream",
     "text": [
      "JD =  2444664.5 Days\n"
     ]
    }
   ],
   "source": [
    "y = Y = 1981\n",
    "m = M = 3\n",
    "D = 1\n",
    "UT1 = 0.0\n",
    "\n",
    "JD = int(365.25 * Y) + int(30.6001 * (M + 1)) + D + UT1 / 24 + 1720981.5\n",
    "print(\"JD = \", JD, \"Days\")"
   ]
  },
  {
   "cell_type": "markdown",
   "id": "bca50f8f96b3d41",
   "metadata": {},
   "source": [
    "---\n",
    "b. T0\n",
    "$$ T_0 = \\frac{JD_{UT=0} - 2451545}{36525} $$\n"
   ]
  },
  {
   "cell_type": "code",
   "execution_count": 53,
   "id": "c9f9db1e646c8d1d",
   "metadata": {
    "ExecuteTime": {
     "end_time": "2023-12-11T15:41:39.934382Z",
     "start_time": "2023-12-11T15:41:39.922690Z"
    }
   },
   "outputs": [
    {
     "name": "stdout",
     "output_type": "stream",
     "text": [
      "T_0 =  -0.18837782340862422\n"
     ]
    }
   ],
   "source": [
    "T_0 = (JD - 2451545) / 36525\n",
    "print(\"T_0 = \", T_0)"
   ]
  },
  {
   "cell_type": "markdown",
   "id": "c1dbf51c8c64adad",
   "metadata": {},
   "source": [
    "---\n",
    "\n",
    "c. (GMST)0\n",
    "$$ (GMST)_0 = 24110.54841^s + 8640184.812866^s * T_0 + 0.093104^s * T_0^2 - 6.2^s * 10^{-6} * T_0^3 \\\\$$ \n"
   ]
  },
  {
   "cell_type": "code",
   "execution_count": 54,
   "id": "1bfc3a489bddb2ae",
   "metadata": {
    "ExecuteTime": {
     "end_time": "2023-12-11T15:41:39.970217Z",
     "start_time": "2023-12-11T15:41:39.936029Z"
    }
   },
   "outputs": [
    {
     "name": "stdout",
     "output_type": "stream",
     "text": [
      "GMST_0 =  10 h 34 m 51.342818000819534 s\n"
     ]
    }
   ],
   "source": [
    "GMST_0 = 24110.54841 + 8640184.812866 * T_0 + 0.093104 * T_0 ** 2 - 6.2 * 10 ** -6 * T_0 ** 3\n",
    "while GMST_0 < 0:\n",
    "    GMST_0 += 3600 * 24\n",
    "GMST_0_hours, GMST_0_minutes, GMST_0_seconds = convert_to_hours_minutes_seconds(GMST_0)\n",
    "print(\"GMST_0 = \", GMST_0_hours, \"h\", GMST_0_minutes, \"m\", GMST_0_seconds, \"s\")"
   ]
  },
  {
   "cell_type": "markdown",
   "id": "2c60ba58d0118ffd",
   "metadata": {},
   "source": [
    "\n",
    "    convert to hours, minutes and seconds:  \n",
    "$$ \n",
    "hours = int(time / 3600) \\\\\n",
    "minutes = int((time - (hours * 3600)) / 60) \\\\\n",
    "seconds = time - (hours * 3600) - (minutes * 60) \\\\\n",
    "$$\n"
   ]
  },
  {
   "cell_type": "code",
   "execution_count": 55,
   "id": "16863464058b557a",
   "metadata": {
    "ExecuteTime": {
     "end_time": "2023-12-11T15:41:39.970888Z",
     "start_time": "2023-12-11T15:41:39.939923Z"
    }
   },
   "outputs": [
    {
     "name": "stdout",
     "output_type": "stream",
     "text": [
      "GMST_0 ≈  10 h 34 m 51.3428 s\n"
     ]
    }
   ],
   "source": [
    "GMST_0_hours, GMST_0_minutes, GMST_0_seconds = convert_to_hours_minutes_seconds(GMST_0)\n",
    "print(\"GMST_0 ≈ \", GMST_0_hours, \"h\", GMST_0_minutes, \"m\", round(GMST_0_seconds, 4), \"s\")"
   ]
  },
  {
   "cell_type": "markdown",
   "id": "6148dada2c1c6091",
   "metadata": {},
   "source": [
    "---\n",
    "\n",
    "d. GAST when $SNT = 22^h 50^m 42.0^s$ at the same day (SNT = Swedish standard time)\n",
    "\n",
    "$$ \n",
    "SNT_{UT1} = SNT - 1^h \\\\\n",
    "GMST = (GMST)_0 + 1.00273790935 * SNT_{UT1} \\\\\n",
    "GAST = GMST + Eq.E\n",
    "$$\n",
    "\n"
   ]
  },
  {
   "cell_type": "code",
   "execution_count": 56,
   "id": "6bfa3726e2315d17",
   "metadata": {
    "ExecuteTime": {
     "end_time": "2023-12-11T15:41:39.982951Z",
     "start_time": "2023-12-11T15:41:39.974177Z"
    }
   },
   "outputs": [
    {
     "name": "stdout",
     "output_type": "stream",
     "text": [
      "SNT_UT1 =  78642.0 s\n",
      "GMST =  116948.65748510351 s\n",
      "GAST =  116947.85748510351 s\n",
      "GAST ≈  8 h 29 m 7.8575 s\n"
     ]
    }
   ],
   "source": [
    "Eq_E = -0.8\n",
    "\n",
    "SNT = 22.0 + 50.0 / 60 + 42.0 / 3600\n",
    "SNT_UT1 = (SNT - 1) * 3600\n",
    "print(\"SNT_UT1 = \", SNT_UT1, \"s\")\n",
    "GMST = GMST_0 + SNT_UT1 * 1.00273790935\n",
    "print(\"GMST = \", GMST, \"s\")\n",
    "GAST = GMST + Eq_E\n",
    "print(\"GAST = \", GAST, \"s\")\n",
    "GAST_hours, GAST_minutes, GAST_seconds = convert_to_hours_minutes_seconds(GAST)\n",
    "if GAST_hours > 24:\n",
    "    GAST_hours -= 24\n",
    "print(\"GAST ≈ \", GAST_hours, \"h\", GAST_minutes, \"m\", round(GAST_seconds, 4), \"s\")\n"
   ]
  },
  {
   "cell_type": "markdown",
   "id": "1d2375c1d80a5985",
   "metadata": {},
   "source": [
    "# Problem 6.2\n",
    "\n",
    "At the official Swedish time $SNT = 22^h 50^m 42.0^s$ on March 1, 1981, a star was observed in the South of the local meridian from a ground station. The equatorial coordinates of the star are as follows:\n",
    "\n",
    "$$ \\delta = 51\\degree 1' 14'',  \\alpha = 9^h 38^m 11.1^s $$\n",
    "\n",
    "The height angle of the star has been measued to $h = 80\\degree 25' 34'$. Find out the astronomical latitude\n",
    "($\\phi$) and longitude ($\\lambda$) of this observation station. (Hints: use results from **Problem 7.1**)\n",
    "\n",
    "---\n",
    "    Calculations:\n",
    "$$\n",
    "Z = 90\\degree - h \\\\\n",
    "\\Lambda = LAST - GAST = \\alpha - GAST \\\\\n",
    "\\Phi = \\delta + z \\\\\n",
    "$$"
   ]
  },
  {
   "cell_type": "markdown",
   "id": "40aa44c4570d6150",
   "metadata": {},
   "source": []
  },
  {
   "cell_type": "code",
   "execution_count": 57,
   "id": "6bc45ff728c31677",
   "metadata": {
    "ExecuteTime": {
     "end_time": "2023-12-11T15:41:39.996746Z",
     "start_time": "2023-12-11T15:41:39.984790Z"
    }
   },
   "outputs": [
    {
     "name": "stdout",
     "output_type": "stream",
     "text": [
      "GAST =  116947.85748510351 s\n",
      "δ =  51.02055555555555 °\n",
      "α =  34691.1 s\n",
      "h =  80.42611111111111 °\n",
      "z =  9.573888888888888 °\n",
      "\n",
      " λ =  4143.242514896498 s\n",
      "λ ≈  1 h 9 m 3.242514896497596 s\n",
      "\n",
      " φ =  60.59444444444444 °\n",
      "φ ≈  60 ° 35 ' 40.0 ''\n"
     ]
    }
   ],
   "source": [
    "print(\"GAST = \", GAST, \"s\")\n",
    "delta = 51 + 1 / 60 + 14 / 3600\n",
    "print(\"δ = \", delta, \"°\")\n",
    "alpha = (9 + 38 / 60 + 11.1 / 3600) * 3600\n",
    "print(\"α = \", alpha, \"s\")\n",
    "h = 80 + 25 / 60 + 34 / 3600\n",
    "print(\"h = \", h, \"°\")\n",
    "\n",
    "z = 90 - h\n",
    "print(\"z = \", z, \"°\")\n",
    "λ = alpha - GAST\n",
    "while λ < 0:\n",
    "    λ += 3600 * 24\n",
    "print(\"\\n\", \"λ = \", λ, \"s\")\n",
    "λ_hour, λ_min, λ_sec = convert_to_hours_minutes_seconds(λ)\n",
    "print(\"λ ≈ \", λ_hour, \"h\", λ_min, \"m\", λ_sec, \"s\")\n",
    "\n",
    "φ = delta + z\n",
    "print(\"\\n\", \"φ = \", φ, \"°\")\n",
    "\n",
    "φ = convert_to_degrees_minutes_seconds(φ)\n",
    "print(\"φ ≈ \", φ[0], \"°\", φ[1], \"'\", round(φ[2], 4), \"''\")\n"
   ]
  },
  {
   "cell_type": "markdown",
   "id": "e2466a10f3b9bb26",
   "metadata": {},
   "source": [
    "# Problem 6.3\n",
    "\n",
    "**Assume that at a point A, the geocentric coordinates referred to the instantaneous pole of the earth has been determined to (unit: metres) :**\n",
    "\n",
    "$$\n",
    "X = 3 042 053.735 \\\\\n",
    "Y = 988 423.176 \\\\\n",
    "Z = 5 503 075.210 \\\\\n",
    "$$\n",
    "\n",
    "**The polar position at the time of coordinates determination is :**\n",
    "\n",
    "$$\n",
    "x_p = +012\" \\\\\n",
    "y_p = +0.15\" $$\n",
    "\n",
    "**The gravity value at A is $g = 9.78 m/s^2$ and GRS-80 reference ellipsoid will be used.**\n",
    "\n"
   ]
  },
  {
   "cell_type": "markdown",
   "id": "fa5cb89dccdb3b0",
   "metadata": {},
   "source": [
    "---\n",
    "\n",
    "a) compute the geocentric coordinates of A referred to the CIO pole ;\n",
    "\n",
    "$$\n",
    "R_p = \n",
    "\\begin{bmatrix}\n",
    "\\cos(x_p) & \\sin(x_p)\\sin(y_p) & \\sin(x_p)\\cos(y_p) \\\\\n",
    "0 & \\cos(y_p) & -\\sin(y_p) \\\\\n",
    "-\\sin(x_p) & \\cos(x_p)\\sin(y_p) & \\cos(x_p)\\cos(y_p) \\\\\n",
    "\\end{bmatrix} \n",
    "$$\n",
    "\n",
    "$$\n",
    "\\begin{bmatrix}\n",
    "x_0 \\\\\n",
    "y_0 \\\\\n",
    "z_0 \\\\\n",
    "\\end{bmatrix} \n",
    "= R_p \n",
    "\\begin{bmatrix}\n",
    "x \\\\\n",
    "y \\\\\n",
    "z \\\\\n",
    "\\end{bmatrix}\n",
    "$$\n"
   ]
  },
  {
   "cell_type": "code",
   "execution_count": 58,
   "id": "b3a16c567b16ab9f",
   "metadata": {
    "ExecuteTime": {
     "end_time": "2023-12-11T15:41:40.037435Z",
     "start_time": "2023-12-11T15:41:39.989328Z"
    }
   },
   "outputs": [
    {
     "name": "stdout",
     "output_type": "stream",
     "text": [
      "x_0 =  3042056.936559284 m\n",
      "y_0 =  988419.174050514 m\n",
      "z_0 =  5503074.159004108 m\n"
     ]
    }
   ],
   "source": [
    "\n",
    "\n",
    "x_p = (0.12 / 3600) * np.pi / 180\n",
    "y_p = (0.15 / 3600) * np.pi / 180\n",
    "X = 3042053.735\n",
    "Y = 988423.176\n",
    "Z = 5503075.210\n",
    "\n",
    "Rp = np.array([\n",
    "    [np.cos(x_p), np.sin(x_p) * np.sin(y_p), np.sin(x_p) * np.cos(y_p)],\n",
    "    [0, np.cos(y_p), -np.sin(y_p)],\n",
    "    [-np.sin(x_p), np.cos(x_p) * np.sin(y_p), np.cos(x_p) * np.cos(y_p)]\n",
    "])\n",
    "\n",
    "[[x_0], [y_0], [z_0]] = np.dot(Rp, np.array([[X], [Y], [Z]]))\n",
    "print(\"x_0 = \", round(x_0, 9), \"m\")\n",
    "print(\"y_0 = \", round(y_0, 9), \"m\")\n",
    "print(\"z_0 = \", round(z_0, 9), \"m\")\n"
   ]
  },
  {
   "cell_type": "markdown",
   "id": "6bc0755545f026c3",
   "metadata": {},
   "source": [
    "---\n",
    "b) estimate the changes in the latitude and longitude of A when the CIO pole is used \n",
    "\n",
    "$$\n",
    "\\delta\\phi = -(x_p\\cos{\\lambda} - y_p\\sin{\\lambda}) \\\\\n",
    "\\delta\\lambda = -(x_p\\sin{\\lambda} - y_p\\cos{\\lambda})\\tan{\\phi} \\\\\n",
    "$$\n"
   ]
  },
  {
   "cell_type": "code",
   "execution_count": 59,
   "id": "ebb004ffb897fd02",
   "metadata": {
    "ExecuteTime": {
     "end_time": "2023-12-11T15:41:40.038259Z",
     "start_time": "2023-12-11T15:41:39.993140Z"
    }
   },
   "outputs": [
    {
     "name": "stdout",
     "output_type": "stream",
     "text": [
      "Δφ =  -0.06777 ''\n",
      "Δλ =  -0.31132 ''\n"
     ]
    }
   ],
   "source": [
    "latitude, longitude, height = geocentric_to_geodetic(GRS80, x_0, y_0, z_0, height_0=0)\n",
    "latitude, longitude = np.radians(latitude), np.radians(longitude)\n",
    "\n",
    "delta_latitude = np.degrees(-(x_p * np.cos(longitude) - y_p * np.sin(longitude)))\n",
    "delta_longitude = np.degrees(-(x_p * np.sin(longitude) + y_p * np.cos(longitude)) * np.tan(latitude))\n",
    "\n",
    "print(\"Δφ = \", round(delta_latitude * 3600, 5), \"''\")\n",
    "print(\"Δλ = \", round(delta_longitude * 3600, 5), \"''\")\n"
   ]
  },
  {
   "cell_type": "markdown",
   "id": "d23362ac3a058ded",
   "metadata": {},
   "source": [
    "---\n",
    "c) compute the geocentric latitude \u001e at A and thereafter the potential change due to the polar motion;\n",
    "$$\n",
    "\\overline{\\phi} = \\arctan\\left(\\frac{z}{\\sqrt{x^2 + y^2}}\\right) \\\\\n",
    "r = \\sqrt{x^2 + y^2 + z^2} \\\\\n",
    "\\delta\\Omega = -\\frac{1}{2}w^2r^2\\sin{2\\overline{\\phi}} * \\delta\\overline{\\phi} \\\\\n",
    "w = 0.72921151*10^{-4} s^{-1} \\quad (kompendium \\ s.222)\n",
    "$$"
   ]
  },
  {
   "cell_type": "code",
   "execution_count": 60,
   "id": "f2cd8fec292d0948",
   "metadata": {
    "ExecuteTime": {
     "end_time": "2023-12-11T15:41:40.042333Z",
     "start_time": "2023-12-11T15:41:40.001207Z"
    }
   },
   "outputs": [
    {
     "name": "stdout",
     "output_type": "stream",
     "text": [
      "φ' =  59.83313600011295 °\n",
      "φ' ≈  59 ° 49 ' 59.29 ''\n",
      "ΔΩ =  0.0308 m^2/s^2\n"
     ]
    }
   ],
   "source": [
    "r = np.sqrt(x_0 ** 2 + y_0 ** 2 + z_0 ** 2)\n",
    "w = 0.72921151 * 10 ** -4\n",
    "\n",
    "latitude_roof = np.arctan(z_0 / np.sqrt(x_0 ** 2 + y_0 ** 2))\n",
    "print(\"φ' = \", np.degrees(latitude_roof), \"°\")\n",
    "latitude_roof_temp = convert_to_degrees_minutes_seconds(np.degrees(latitude_roof))\n",
    "print(\"φ' ≈ \", latitude_roof_temp[0], \"°\", latitude_roof_temp[1], \"'\", round(latitude_roof_temp[2], 3), \"''\")\n",
    "\n",
    "delta_Omega = -0.5 * w ** 2 * r ** 2 * np.sin(2 * latitude_roof) * np.radians(delta_latitude)\n",
    "print(\"ΔΩ = \", round(delta_Omega, 4), \"m^2/s^2\")"
   ]
  },
  {
   "cell_type": "markdown",
   "id": "18352ad93672f07f",
   "metadata": {},
   "source": [
    "---\n",
    "d) Find out the surface gravity change at A due to the polar motion ;\n",
    "$$\n",
    "\\delta g_p = \\frac{\\delta\\delta\\omega}{\\delta r} = w^2r\\sin{2\\overline{\\phi}} * \\delta\\overline{\\phi}\n",
    "$$\n"
   ]
  },
  {
   "cell_type": "code",
   "execution_count": 61,
   "id": "9bac5cce837ec2c3",
   "metadata": {
    "ExecuteTime": {
     "end_time": "2023-12-11T15:41:40.078710Z",
     "start_time": "2023-12-11T15:41:40.043952Z"
    }
   },
   "outputs": [
    {
     "name": "stdout",
     "output_type": "stream",
     "text": [
      "Δg' =  -9.663555980302746e-09 m/s^2\n"
     ]
    }
   ],
   "source": [
    "delta_g_p = w ** 2 * r * np.sin(2 * latitude_roof) * np.radians(delta_latitude)\n",
    "print(\"Δg' = \", delta_g_p, \"m/s^2\")"
   ]
  },
  {
   "cell_type": "markdown",
   "id": "c7cb0f296525b93a",
   "metadata": {},
   "source": [
    "---\n",
    "e) how much will the sea level near A change due to the polar motion ?\n",
    "$$\n",
    "\\delta N_p = \\frac{\\delta\\omega}{g}\n",
    "$$\n",
    "\n"
   ]
  },
  {
   "cell_type": "code",
   "execution_count": 62,
   "id": "a51a4676f6c1138e",
   "metadata": {
    "ExecuteTime": {
     "end_time": "2023-12-11T15:41:40.104183Z",
     "start_time": "2023-12-11T15:41:40.080835Z"
    }
   },
   "outputs": [
    {
     "name": "stdout",
     "output_type": "stream",
     "text": [
      "ΔNp' =  0.0031446733868475104 m\n"
     ]
    }
   ],
   "source": [
    "g = 9.78\n",
    "delta_N_p = delta_Omega / g\n",
    "print(\"ΔNp' = \", delta_N_p, \"m\")"
   ]
  },
  {
   "cell_type": "markdown",
   "id": "2263c49a346f8407",
   "metadata": {},
   "source": [
    "# Problem 6.4\n",
    "\n",
    "**On February 20, 2001**, at $t = 15^h 15^m$ (Swedish standard time), the Earth orientation parameters have the following values:\n",
    "$$ \n",
    "\\Delta\\epsilon = -1.707\" \\\\\n",
    "\\Delta\\psi = -15.447\" \\\\\n",
    "x_p = -0.0466\" \\\\\n",
    "y_p = +0.4391 \\\\\n",
    "dUT1 = UT1 - UTC = 0,0471^s\n",
    "$$\n",
    "\n",
    "In the International Celestial Reference Frame referred to the mean equator and equinox at J2000.0, an artificial satellite has the following geocentric coordinates:\n",
    "\n",
    "$$\n",
    "\\begin{bmatrix}\n",
    "X \\\\\n",
    "Y \\\\\n",
    "Z \\\\\n",
    "\\end{bmatrix}_{ICRF}\n",
    "= \n",
    "\\begin{bmatrix}\n",
    "12 791 872.0418 \\\\\n",
    "4 173 410.3284 \\\\\n",
    "22 669 864.5407 \\\\\n",
    "\\end{bmatrix}metre\n",
    "$$\n",
    "\n",
    "Transform the above coordinates in the ICRF to coordinates in the ITRF by the following steps:\n"
   ]
  },
  {
   "cell_type": "code",
   "execution_count": 63,
   "id": "4e3e08a3d94cea59",
   "metadata": {
    "ExecuteTime": {
     "end_time": "2023-12-11T15:41:40.126401Z",
     "start_time": "2023-12-11T15:41:40.105846Z"
    }
   },
   "outputs": [],
   "source": [
    "delta_epsilon = -1.707  # Sekunder\n",
    "delta_psi = -15.447  # Sekunder\n",
    "x_p = -0.0466  # Sekunder\n",
    "y_p = 0.4391  # Sekunder\n",
    "dUT1 = 0.0471  # Sekunder\n",
    "UTC = (14 + 15 / 60) * 3600  # Sekunder\n",
    "\n",
    "X, Y, Z = 12791872.0418, 4173410.3284, 22669864.5407  #Meter"
   ]
  },
  {
   "cell_type": "markdown",
   "id": "c5a9f8c24a56e9f9",
   "metadata": {},
   "source": [
    "---\n",
    "a. computer the Julian date $(JD_0)$ and Julian Century $(T_0)$ for $UT1 = 0$\n",
    "$$\n",
    "y = 2001 - 1 \\\\\n",
    "M = 2 + 12 \\\\\n",
    "JD_0 = INT(365.25 * y) + INT(30.6001 * (M + 1)) + D + 1720981.5 \\\\\n",
    "T_0 = \\frac{JD_0-J2000}{36525} \\\\\n",
    "$$\n",
    "\n"
   ]
  },
  {
   "cell_type": "code",
   "execution_count": 64,
   "id": "8524aa8f146b022e",
   "metadata": {
    "ExecuteTime": {
     "end_time": "2023-12-11T15:41:40.165992Z",
     "start_time": "2023-12-11T15:41:40.127025Z"
    }
   },
   "outputs": [
    {
     "name": "stdout",
     "output_type": "stream",
     "text": [
      "JD_0 =  2451960.5\n",
      "T_0 =  0.01137577002053388\n"
     ]
    }
   ],
   "source": [
    "y = 2001 - 1\n",
    "M = 2 + 12\n",
    "D = 20\n",
    "J2000 = 2451545.0\n",
    "JD_0 = int(365.25 * y) + int(30.6001 * (M + 1)) + D + 1720981.5\n",
    "print(\"JD_0 = \", JD_0)\n",
    "T_0 = (JD_0 - J2000) / 36525\n",
    "print(\"T_0 = \", T_0)\n"
   ]
  },
  {
   "cell_type": "markdown",
   "id": "86bbb24bdcac4d9c",
   "metadata": {},
   "source": [
    "---\n",
    "b. compute $UT1$, the Julian date $(JD)$ and Julian Century $(T)$ for epoch $t = 15^h 15^m$\n",
    "$$\n",
    "y = 2001 - 1 \\\\\n",
    "M = 2 + 12 \\\\\n",
    "UT1 = UTC + dUT1 \\\\\n",
    "J2000 = 2451545.0 \\\\\n",
    "JD = INT(365.25 * y) + INT(30.6001 * (M + 1)) + D + \\frac{UT1}{24} + 1720981.5 \\\\\n",
    "T = \\frac{JD-J2000}{36525}\\\\\n",
    "$$"
   ]
  },
  {
   "cell_type": "code",
   "execution_count": 65,
   "id": "bd1a583a29e44081",
   "metadata": {
    "ExecuteTime": {
     "end_time": "2023-12-11T15:41:40.172344Z",
     "start_time": "2023-12-11T15:41:40.146803Z"
    }
   },
   "outputs": [
    {
     "name": "stdout",
     "output_type": "stream",
     "text": [
      "UT1 =  14.250013083333334 h\n",
      "JD =  2451961.0937505453 Days\n",
      "T =  0.011392026024511687\n"
     ]
    }
   ],
   "source": [
    "UT1 = (dUT1 + UTC) / 3600\n",
    "J2000 = 2451545.0\n",
    "print(\"UT1 = \", UT1, \"h\")\n",
    "JD = int(365.25 * y) + int(30.6001 * (M + 1)) + D + (UT1 / 24) + 1720981.5\n",
    "print(\"JD = \", JD, \"Days\")\n",
    "T = (JD - J2000) / 36525\n",
    "print(\"T = \", T)"
   ]
  },
  {
   "cell_type": "markdown",
   "id": "92ad88cd8b6cea9d",
   "metadata": {},
   "source": [
    "---\n",
    "c. compute the precession parameters $\\xi, z, \\theta$ and the precession matrix P (Check if P is orthogonal: $PP^T = P^TP = I$)\n",
    "\n",
    "$$\n",
    "\\xi = 2306.2181 * T + 0.30188 * T^2 + 0.017998 * T^3 * \\frac{1}{3600} * \\frac{\\pi}{180}\\\\\n",
    "z = 2306.2181 * T + 1.09468 * T^2 + 0.018203 * T^3 * \\frac{1}{3600} * \\frac{\\pi}{180}\\\\\n",
    "\\theta = 2004.3109 * T - 0.42665 * T^2 - 0.041833 * T^3 * \\frac{1}{3600} * \\frac{\\pi}{180}\\\\\n",
    "$$\n",
    "\n",
    "$$\n",
    "P(z, \\theta, \\xi) = \n",
    "\\begin{bmatrix}\n",
    "+\\cos{z}\\cos{\\theta}\\cos{\\xi}-\\sin{z}\\sin{\\xi} & -\\cos{z}\\cos{\\theta}\\sin{\\xi}-\\sin{z}\\cos{\\xi} & -\\cos{z}\\sin{\\theta} \\\\\n",
    "+\\sin{z}\\cos{\\theta}\\cos{\\xi}+\\cos{z}\\sin{\\xi} & -\\sin{z}\\cos{\\theta}\\sin{\\xi}+\\cos{z}\\cos{\\xi} & -\\sin{z}\\sin{\\theta} \\\\\n",
    "+\\sin{\\theta}\\cos{\\xi} & -\\sin{\\theta}\\sin{\\xi} & +\\cos{\\theta} \\\\\n",
    "\\end{bmatrix} \n",
    "$$"
   ]
  },
  {
   "cell_type": "code",
   "execution_count": 66,
   "id": "ae3834d8ea7e133d",
   "metadata": {
    "ExecuteTime": {
     "end_time": "2023-12-11T15:41:40.180333Z",
     "start_time": "2023-12-11T15:41:40.177598Z"
    }
   },
   "outputs": [
    {
     "name": "stdout",
     "output_type": "stream",
     "text": [
      "ξ =  0.00012737284801749287 rad\n",
      "z =  0.00012737334683504228 rad\n",
      "θ =  0.00011069802414532401 rad\n",
      "P =  [[ 9.99999961e-01 -2.54746191e-04 -1.10698023e-04]\n",
      " [ 2.54746191e-04  9.99999968e-01 -1.40999778e-08]\n",
      " [ 1.10698023e-04 -1.40999225e-08  9.99999994e-01]]\n",
      "Matrix P is orthogonal.\n"
     ]
    }
   ],
   "source": [
    "\n",
    "xi = np.radians((2306.2181 * T + 0.30188 * T ** 2 + 0.017998 * T ** 3) / 3600)\n",
    "print(\"ξ = \", xi, \"rad\")\n",
    "z = np.radians((2306.2181 * T + 1.09468 * T ** 2 + 0.018203 * T ** 3) / 3600)\n",
    "print(\"z = \", z, \"rad\")\n",
    "theta = np.radians((2004.3109 * T - 0.42665 * T ** 2 - 0.041833 * T ** 3) / 3600)\n",
    "print(\"θ = \", theta, \"rad\")\n",
    "\n",
    "P = np.array(\n",
    "    [[np.cos(z) * np.cos(theta) * np.cos(xi) - np.sin(z) * np.sin(xi),\n",
    "      -np.cos(z) * np.cos(theta) * np.sin(xi) - np.sin(z) * np.cos(xi),\n",
    "      -np.cos(z) * np.sin(theta)],\n",
    "     [np.sin(z) * np.cos(theta) * np.cos(xi) + np.cos(z) * np.sin(xi),\n",
    "      -np.sin(z) * np.cos(theta) * np.sin(xi) + np.cos(z) * np.cos(xi),\n",
    "      -np.sin(z) * np.sin(theta)],\n",
    "     [+np.sin(theta) * np.cos(xi), -np.sin(theta) * np.sin(xi), np.cos(theta)]])\n",
    "print(\"P = \", P)\n",
    "PPT = np.dot(P, P.T)\n",
    "PTP = np.dot(P.T, P)\n",
    "\n",
    "if np.allclose(PPT, np.eye(3)) and np.allclose(PTP, np.eye(3)):\n",
    "    print(\"Matrix P is orthogonal.\")\n",
    "else:\n",
    "    print(\"Matrix P is not orthogonal.\")\n",
    "\n"
   ]
  },
  {
   "cell_type": "markdown",
   "id": "e90807dedc94d43f",
   "metadata": {},
   "source": [
    "\n",
    "---\n",
    "d. compute the mean obliquity of the ecliptic (\"0), the true obliquity of the ecliptic $(\\epsilon = \\epsilon_0 + \\Delta\\epsilon)$ and the nutation matrix $N(\\epsilon_0,\\Delta\\epsilon, \\Delta\\psi)$.(Check if $N$ is orthogonal)\n",
    "$$\n",
    "\\epsilon_0 = (23\\degree 26' 21.448'' - 46.8150'' * T - 0.00059'' * T^2 + 0.001813'' * T^3) * \\frac{\\pi}{180}  \\\\\n",
    "\\epsilon = (\\epsilon_0 + \\Delta\\epsilon)  * \\frac{\\pi}{180} \\\\\n",
    "\n",
    "N(\\epsilon_0, \\Delta\\epsilon, \\Delta\\psi) = \n",
    "\\begin{bmatrix}\n",
    "\\cos{\\Delta\\psi} & -\\sin{\\Delta\\psi}\\cos{\\epsilon_0} & -\\sin{\\Delta\\psi}\\sin{\\epsilon_0} \\\\\n",
    "+\\sin{\\Delta\\psi}\\cos{\\epsilon} & +\\cos{\\Delta\\psi}\\cos{\\epsilon}\\cos{\\epsilon_0} + \\sin{\\epsilon}\\sin{\\epsilon_0} & +\\cos{\\Delta\\psi}\\cos{\\epsilon}\\sin{\\epsilon_0} - \\sin{\\epsilon}\\cos{\\epsilon_0} \\\\\n",
    "+\\sin{\\Delta\\psi}\\sin{\\epsilon} & +\\cos{\\Delta\\psi}\\sin{\\epsilon}\\cos{\\epsilon_0} - \\cos{\\epsilon}\\sin{\\epsilon_0} & +\\cos{\\Delta\\psi}\\sin{\\epsilon}\\sin{\\epsilon_0} + \\cos{\\epsilon}\\cos{\\epsilon_0} \\\\\n",
    "\\end{bmatrix} \n",
    "$$"
   ]
  },
  {
   "cell_type": "code",
   "execution_count": 67,
   "id": "4171d574d595e0c8",
   "metadata": {
    "ExecuteTime": {
     "end_time": "2023-12-11T15:41:40.190477Z",
     "start_time": "2023-12-11T15:41:40.183387Z"
    }
   },
   "outputs": [
    {
     "name": "stdout",
     "output_type": "stream",
     "text": [
      "Δε =  -8.27576953653978e-06 rad\n",
      "Δψ =  -7.488916932099002e-05 h\n",
      "ε_0 =  0.4090902186248054 rad\n",
      "ε =  0.40908194285526883 rad\n",
      "N =  [[ 9.99999997e-01  6.87095465e-05  2.97890231e-05]\n",
      " [-6.87097930e-05  9.99999998e-01  8.27474614e-06]\n",
      " [-2.97884545e-05 -8.27679291e-06  1.00000000e+00]]\n",
      "Matrix N is orthogonal.\n"
     ]
    }
   ],
   "source": [
    "delta_epsilon = np.radians(delta_epsilon) / 3600\n",
    "delta_psi = np.radians(delta_psi / 3600)\n",
    "print(\"Δε = \", delta_epsilon, \"rad\")\n",
    "print(\"Δψ = \", delta_psi, \"h\")\n",
    "\n",
    "epsilon_0 = np.radians(\n",
    "    23 + 26 / 60 + 21.448 / 3600 - 46.8150 / 3600 * T - 0.00059 / 3600 * T ** 2 + 0.001813 / 3600 * T ** 3)\n",
    "print(\"ε_0 = \", epsilon_0, \"rad\")\n",
    "epsilon = epsilon_0 + delta_epsilon\n",
    "print(\"ε = \", epsilon, \"rad\")\n",
    "\n",
    "N = np.array([[np.cos(delta_psi), -np.sin(delta_psi) * np.cos(epsilon_0), -np.sin(delta_psi) * np.sin(epsilon_0)],\n",
    "              [np.sin(delta_psi) * np.cos(epsilon),\n",
    "               np.cos(delta_psi) * np.cos(epsilon) * np.cos(epsilon_0) + np.sin(epsilon) * np.sin(epsilon_0),\n",
    "               np.cos(delta_psi) * np.cos(epsilon) * np.sin(epsilon_0) - np.sin(epsilon) * np.cos(epsilon_0)],\n",
    "              [np.sin(delta_psi) * np.sin(epsilon),\n",
    "               np.cos(delta_psi) * np.sin(epsilon) * np.cos(epsilon_0) - np.cos(epsilon) * np.sin(epsilon_0),\n",
    "               np.cos(delta_psi) * np.sin(epsilon) * np.sin(epsilon_0) + np.cos(epsilon) * np.cos(epsilon_0)]])\n",
    "print(\"N = \", N)\n",
    "\n",
    "NNT = np.dot(N, N.T)\n",
    "NTN = np.dot(N.T, N)\n",
    "\n",
    "if np.allclose(NNT, np.eye(3)) and np.allclose(NTN, np.eye(3)):\n",
    "    print(\"Matrix N is orthogonal.\")\n",
    "else:\n",
    "    print(\"Matrix N is not orthogonal.\")\n"
   ]
  },
  {
   "cell_type": "markdown",
   "id": "3b4ddd833b5bcfaf",
   "metadata": {},
   "source": [
    "---\n",
    "\n",
    "e. compute $(GMST)_0, GMST, GAST$ for epoch $t$. (Hints: to compute GMST, one need\n",
    "to use the Julian century T0 computed in (a)\n",
    "$$\n",
    "(GMST)_0 = 24110.54841^s + 8640184.812866^s * T_0 + 0.093104^s * T_0^2 - 6.2^s * 10^{-6} * T_0^3 \\\\\n",
    "GMST = (GMST)_0 + 1.00273790935 * UT1 \\\\\n",
    "GAST = GMST + \\Delta\\psi\\cos{\\epsilon_0} \\\\ \n",
    "\\Delta\\psi\\text{ is in arcseconds, convert to seconds by dividing by 15} \\\\\n",
    "$$"
   ]
  },
  {
   "cell_type": "code",
   "execution_count": 68,
   "id": "3e64a7ab196826ae",
   "metadata": {
    "ExecuteTime": {
     "end_time": "2023-12-11T15:41:40.222071Z",
     "start_time": "2023-12-11T15:41:40.186736Z"
    }
   },
   "outputs": [
    {
     "name": "stdout",
     "output_type": "stream",
     "text": [
      "\n",
      " GMST_0 =  33.99980660781155 h\n",
      "\n",
      " GMST =  0.28883493520336145 h\n",
      "\n",
      " GAST =  0.28857248406817915 h\n"
     ]
    }
   ],
   "source": [
    "GMST_0 = (24110.54841 + 8640184.812866 * T_0 + 0.093104 * T_0 ** 2 - 6.2 * 10 ** -6 * T_0 ** 3) / 3600\n",
    "print(\"\\n\", \"GMST_0 = \", GMST_0, \"h\")\n",
    "\n",
    "GMST = GMST_0 + (UT1 * 1.00273790935)\n",
    "while GMST >24:\n",
    "    GMST -= 24\n",
    "print(\"\\n\", \"GMST = \", GMST, \"h\")\n",
    "GAST = GMST + (np.degrees(delta_psi) / 15) * np.cos(epsilon_0)\n",
    "\n",
    "while GAST > 24:\n",
    "    GAST -= 24\n",
    "print(\"\\n\", \"GAST = \", GAST, \"h\")\n"
   ]
  },
  {
   "cell_type": "markdown",
   "id": "dceae00618c67438",
   "metadata": {},
   "source": [
    "\n",
    "---\n",
    "f. compute the rotation matrix $R_3(GAST)$, the polar motion matrix $R_p(x_p,y_p)$ and the joint rotation matrix $R = R_p * R_3 * N * P$ used for transformation from $ICRS$ to $ITRF$: Check if $R_2, R_p$ and $R$ are orthogonal).\n",
    "$$\n",
    "R_3(GAST) = \n",
    "\\begin{bmatrix}\n",
    "\\cos{GAST} & \\sin{GAST} & 0 \\\\\n",
    "-\\sin{GAST} & \\cos{GAST} & 0 \\\\\n",
    "0 & 0 & 1 \\\\\n",
    "\\end{bmatrix} \\\\\n",
    "\n",
    "R * R^T ≈ I \\\\\n",
    "\n",
    "R_p = \n",
    "\\begin{bmatrix}\n",
    "\\cos(x_p) & \\sin(x_p)\\sin(y_p) & \\sin(x_p)\\cos(y_p) \\\\\n",
    "0 & \\cos(y_p) & -\\sin(y_p) \\\\\n",
    "-\\sin(x_p) & \\cos(x_p)\\sin(y_p) & \\cos(x_p)\\cos(y_p) \\\\\n",
    "\\end{bmatrix}  \\\\\n",
    "\n",
    "R_p * R_p^T ≈ I \\\\\n",
    "\n",
    "R = R_p * R_3 * N * P \\\\\n",
    "\n",
    "R * R^T ≈ I \\\\\n",
    "\n",
    "$$"
   ]
  },
  {
   "cell_type": "code",
   "execution_count": 69,
   "id": "cd69db0261064a85",
   "metadata": {
    "ExecuteTime": {
     "end_time": "2023-12-11T15:41:40.224992Z",
     "start_time": "2023-12-11T15:41:40.193895Z"
    }
   },
   "outputs": [
    {
     "name": "stdout",
     "output_type": "stream",
     "text": [
      "GAST =  0.0755480996647291 rad\n",
      "x_p =  -2.2592317539704379e-07 rad\n",
      "y_p =  2.1288168737519725e-06 rad\n",
      "\n",
      " R_3 =  [[ 0.9971476   0.07547625  0.        ]\n",
      " [-0.07547625  0.9971476   0.        ]\n",
      " [ 0.          0.          1.        ]]\n",
      "Matrix R_3 is orthogonal.\n",
      "\n",
      " Rp =  [[ 1.00000000e+00 -4.80949068e-13 -2.25923175e-07]\n",
      " [ 0.00000000e+00  1.00000000e+00 -2.12881687e-06]\n",
      " [ 2.25923175e-07  2.12881687e-06  1.00000000e+00]]\n",
      "Matrix Rp is orthogonal.\n",
      "\n",
      " R =  [[ 9.97161620e-01  7.52907475e-02 -8.02800823e-05]\n",
      " [-7.52907468e-02  9.97161623e-01  1.22225593e-05]\n",
      " [ 8.09724629e-05 -6.14351966e-06  9.99999997e-01]]\n",
      "Matrix R is orthogonal.\n"
     ]
    }
   ],
   "source": [
    "GAST = np.radians(GAST) * 15\n",
    "\n",
    "x_p = np.radians(x_p) / 3600\n",
    "y_p = np.radians(y_p) / 3600\n",
    "print(\"GAST = \", GAST, \"rad\")\n",
    "print(\"x_p = \", x_p, \"rad\")\n",
    "print(\"y_p = \", y_p, \"rad\")\n",
    "\n",
    "R_3 = np.array([[np.cos(GAST), np.sin(GAST), 0], [-np.sin(GAST), np.cos(GAST), 0], [0, 0, 1]])\n",
    "print(\"\\n\", \"R_3 = \", R_3)\n",
    "R_3R_3T = np.dot(R_3, R_3.T)\n",
    "R_3TR_3 = np.dot(R_3.T, R_3)\n",
    "if np.allclose(R_3R_3T, np.eye(3)) and np.allclose(R_3TR_3, np.eye(3)):\n",
    "    print(\"Matrix R_3 is orthogonal.\")\n",
    "else:\n",
    "    print(\"Matrix R_3 is not orthogonal.\")\n",
    "\n",
    "Rp = np.array([\n",
    "    [np.cos(x_p), np.sin(x_p) * np.sin(y_p), np.sin(x_p) * np.cos(y_p)],\n",
    "    [0, np.cos(y_p), -np.sin(y_p)],\n",
    "    [-np.sin(x_p), np.cos(x_p) * np.sin(y_p), np.cos(x_p) * np.cos(y_p)]\n",
    "])\n",
    "print(\"\\n\", \"Rp = \", Rp)\n",
    "Rp_RpT = np.dot(Rp, Rp.T)\n",
    "RpT_Rp = np.dot(Rp.T, Rp)\n",
    "if np.allclose(Rp_RpT, np.eye(3)) and np.allclose(RpT_Rp, np.eye(3)):\n",
    "    print(\"Matrix Rp is orthogonal.\")\n",
    "else:\n",
    "    print(\"Matrix Rp is not orthogonal.\")\n",
    "\n",
    "R = np.dot(np.dot(np.dot(Rp, R_3), N), P)\n",
    "print(\"\\n\", \"R = \", R)\n",
    "R_RT = np.dot(R, R.T)\n",
    "RT_R = np.dot(R.T, R)\n",
    "\n",
    "if np.allclose(R_RT, np.eye(3)) and np.allclose(RT_R, np.eye(3)):\n",
    "    print(\"Matrix R is orthogonal.\")\n",
    "else:\n",
    "    print(\"Matrix R is not orthogonal.\")\n"
   ]
  },
  {
   "cell_type": "markdown",
   "id": "f0f01defc35b2862",
   "metadata": {},
   "source": [
    "\n",
    "---\n",
    "g. compute the coordinates of the satellite in $ITRF, (X,Y,Z)_{ITRS}$\n",
    "$$\n",
    "\\begin{bmatrix}\n",
    "x_{ITRF} \\\\\n",
    "y_{ITRF} \\\\\n",
    "z_{ITRF} \\\\\n",
    "\\end{bmatrix} = R\n",
    "\n",
    "\\begin{bmatrix}\n",
    "x \\\\\n",
    "y \\\\\n",
    "z \\\\\n",
    "\\end{bmatrix}\n",
    "$$"
   ]
  },
  {
   "cell_type": "code",
   "execution_count": 70,
   "id": "fe2622399b0d978f",
   "metadata": {
    "ExecuteTime": {
     "end_time": "2023-12-11T15:41:40.225504Z",
     "start_time": "2023-12-11T15:41:40.197343Z"
    }
   },
   "outputs": [
    {
     "name": "stdout",
     "output_type": "stream",
     "text": [
      "x =  13067963.096008142 m\n",
      "y =  3198732.10315171 m\n",
      "z =  22670874.615909804 m\n"
     ]
    }
   ],
   "source": [
    "[[x], [y], [z]] = np.dot(R, np.array([[X], [Y], [Z]]))\n",
    "\n",
    "print(\"x = \", round(x, 9), \"m\")\n",
    "print(\"y = \", round(y, 9), \"m\")\n",
    "print(\"z = \", round(z, 9), \"m\")"
   ]
  },
  {
   "cell_type": "markdown",
   "id": "71e280bee73b9a77",
   "metadata": {},
   "source": [
    "\n",
    "---\n",
    "h. compare the geocentric distance to satellite, $r = \\sqrt{X^2 + Y^2 + Z^2}$, computed in $ICRF$ and $ITRF$ respectively.\n",
    "\n",
    "$$\n",
    "r_{ICRF} = \\sqrt{X^2 + Y^2 + Z^2} \\\\\n",
    "r_{ITRF} = \\sqrt{x_{ITRF}^2 + y_{ITRF}^2 + z_{ITRF}^2} \\\\\n",
    "\n",
    "\n",
    "\n",
    "\n"
   ]
  },
  {
   "cell_type": "code",
   "execution_count": 71,
   "id": "41425560c8006987",
   "metadata": {
    "ExecuteTime": {
     "end_time": "2023-12-11T15:41:40.278607Z",
     "start_time": "2023-12-11T15:41:40.226679Z"
    }
   },
   "outputs": [
    {
     "name": "stdout",
     "output_type": "stream",
     "text": [
      "r_ICRF =  26362323.5394126 m\n",
      "r_ITRF =  26362323.5394126 m\n",
      "Δr =  0.0 m\n"
     ]
    }
   ],
   "source": [
    "r_ICRF = np.sqrt(X ** 2 + Y ** 2 + Z ** 2)\n",
    "print(\"r_ICRF = \", round(r_ICRF, 8), \"m\")\n",
    "r_ITRF = np.sqrt(x ** 2 + y ** 2 + z ** 2)\n",
    "print(\"r_ITRF = \", round(r_ITRF, 8), \"m\")\n",
    "print(\"Δr = \", r_ITRF - r_ICRF, \"m\")\n",
    "a = 5 + 1\n"
   ]
  }
 ],
 "metadata": {
  "kernelspec": {
   "display_name": "Python 3 (ipykernel)",
   "language": "python",
   "name": "python3"
  },
  "language_info": {
   "codemirror_mode": {
    "name": "ipython",
    "version": 3
   },
   "file_extension": ".py",
   "mimetype": "text/x-python",
   "name": "python",
   "nbconvert_exporter": "python",
   "pygments_lexer": "ipython3",
   "version": "3.11.5"
  }
 },
 "nbformat": 4,
 "nbformat_minor": 5
}
