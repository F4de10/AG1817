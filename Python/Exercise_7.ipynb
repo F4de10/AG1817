{
 "cells": [
  {
   "cell_type": "markdown",
   "id": "48a6ad94db72f067",
   "metadata": {
    "collapsed": false
   },
   "source": [
    "# Övning 7 - Geodetic triangulation datums and height systems "
   ]
  },
  {
   "cell_type": "code",
   "execution_count": 43,
   "id": "9eebf22ee7d2bb79",
   "metadata": {
    "collapsed": false,
    "ExecuteTime": {
     "end_time": "2023-12-09T13:25:43.184545Z",
     "start_time": "2023-12-09T13:25:43.119487Z"
    }
   },
   "outputs": [],
   "source": [
    "from methods_AG1817 import *\n",
    "import numpy as np"
   ]
  },
  {
   "cell_type": "markdown",
   "id": "c76dc06353c6aa68",
   "metadata": {
    "collapsed": false
   },
   "source": [
    "# Problem 7.1\n",
    "\n",
    "Assume that the centre of a local Hayford ellipsoid ($a = 6378388 meter; 1/f = 297$) has geocentric\n",
    "coordinates :\n",
    "\n",
    "$$\n",
    "\\left(\\begin{array}{cc} \n",
    "x_0 \\\\\n",
    "y_0 \\\\\n",
    "z_0 \\\\\n",
    "\\end{array}\\right)\n",
    "= \n",
    "\\left(\\begin{array}{cc} \n",
    "-100 \\\\\n",
    "-100 \\\\\n",
    "-100 \\\\\n",
    "\\end{array}\\right)\n",
    "(metres)\n",
    "$$ \n",
    "\n",
    "With respect to this non-geocentric Hayford ellipsoid, point P has the following geodetic coordinates:\n",
    "$$\n",
    "\\left(\\begin{array}{cc} \n",
    "\\phi \\\\\n",
    "\\lambda \\\\\n",
    "h \\\\\n",
    "\\end{array}\\right)\n",
    "= \n",
    "\\left(\\begin{array}{cc} \n",
    "60\\degree \\\\\n",
    "18\\degree \\\\\n",
    "100 m \\\\\n",
    "\\end{array}\\right)\n",
    "$$\n",
    "\n",
    "With respect to the geocentric GRS 80 ellipsoid $(a' = 6378137 meter; f' = 1=298.257222101)$, point P will have different coordinates $(\\phi + \\delta\\phi, \\lambda + \\delta\\lambda; h + \\delta h)$. \\\n",
    "\\\n",
    "Consider changes in the coordinates of P from System 1 (associated with a non-geocentric Hayford ellipsoid) to System 2 (associated with a geocentric GRS 80 ellipsoid). Use the di§erential formulas to estimate the coordinate changes $(\\delta\\phi, \\delta\\lambda, \\delta h)$ caused by:\n",
    "\n",
    "a. $(x_0, y_0, z_0)$ \\\n",
    "2. $\\delta a = a' - a$ \\\n",
    "3. $\\delta f = f' - f$ \\\n",
    "4. sum of the above factors togther. \\\n",
    "\n",
    "    Calculations: \n",
    "$$\n",
    "\\begin{bmatrix}\n",
    "a * \\delta\\phi \\\\\n",
    "a * cos{\\phi}\\delta\\lambda \\\\\n",
    "\\delta h \\\\\n",
    "\\end{bmatrix} \n",
    "= \\Omega (\\phi, \\lambda) \n",
    "\\begin{bmatrix}\n",
    "\\delta x_0 \\\\\n",
    "\\delta y_0 \\\\\n",
    "\\delta z_0 \\\\\n",
    "\\end{bmatrix} \n",
    "+ \\theta (\\phi, \\lambda)\n",
    "\\begin{bmatrix}\n",
    "\\delta a \\\\\n",
    "a * \\delta f \\\\\n",
    "\\end{bmatrix} \n",
    "$$\n",
    "$$\n",
    "\\Omega (\\phi, \\lambda) =\n",
    "\\begin{bmatrix}\n",
    "\\sin{\\phi}cos{\\lambda} & \\sin{\\phi}sin{\\lambda} & -cos{\\phi}\\\\\n",
    "\\sin{\\lambda} & -\\cos{\\lambda} & 0 \\\\\n",
    "-\\cos{\\phi}cos{\\lambda} & -\\cos{\\phi}sin{\\lambda} & -sin{\\phi}\\\\\n",
    "\\end{bmatrix} \n",
    "$$\n",
    "$$\n",
    "\\theta (\\phi, \\lambda) =\n",
    "\\begin{bmatrix}\n",
    "0 & sin^2{\\phi} \\\\\n",
    "0 & 0\\\\\n",
    "-1 & sin^2{\\phi}\\\\\n",
    "\\end{bmatrix} \n",
    "$$\n"
   ]
  },
  {
   "cell_type": "code",
   "execution_count": 44,
   "id": "af1e5bfeceddaf27",
   "metadata": {
    "collapsed": false,
    "ExecuteTime": {
     "end_time": "2023-12-09T13:25:43.194763Z",
     "start_time": "2023-12-09T13:25:43.189509Z"
    }
   },
   "outputs": [
    {
     "name": "stdout",
     "output_type": "stream",
     "text": [
      "[[ 0.8236391   0.26761657 -0.5       ]\n",
      " [ 0.30901699 -0.95105652  0.        ]\n",
      " [-0.47552826 -0.1545085  -0.8660254 ]]\n",
      "[[ 0.         0.8660254]\n",
      " [ 0.         0.       ]\n",
      " [-1.         0.75     ]]\n"
     ]
    }
   ],
   "source": [
    "a = 6378388\n",
    "f = 1/ 297\n",
    "x_0, y_0, z_0 = -100, -100, -100\n",
    "phi, lamda, h = np.radians(60), np.radians(18), 100\n",
    "aprim = 6378137\n",
    "fprim = 1 / 298.25722101\n",
    "Omega = np.array([[np.sin(phi)*np.cos(lamda), np.sin(phi)*np.sin(lamda), -np.cos(phi)], [np.sin(lamda), -1 * np.cos(lamda), 0], [-np.cos(phi)*cos(lamda), -np.cos(phi)*np.sin(lamda), -np.sin(phi)]])\n",
    "print(Omega)\n",
    "Theta = np.array([[0, np.sin(2*phi)], [0, 0], [-1, np.sin(phi)**2]])\n",
    "print(Theta)"
   ]
  },
  {
   "cell_type": "markdown",
   "id": "6decd05fbbab48d2",
   "metadata": {
    "collapsed": false
   },
   "source": [
    "---\n",
    "a. $(x_0, y_0, z_0)$\n",
    "$$\n",
    "\\begin{bmatrix}\n",
    "a * \\delta\\phi \\\\\n",
    "a * cos{\\phi}\\delta\\lambda \\\\\n",
    "\\delta h \\\\\n",
    "\\end{bmatrix} \n",
    "= \\Omega (\\phi, \\lambda) \n",
    "\\begin{bmatrix}\n",
    "\\delta x_0 \\\\\n",
    "\\delta y_0 \\\\\n",
    "\\delta z_0 \\\\\n",
    "\\end{bmatrix} \n",
    "= \\Omega (\\phi, \\lambda) \n",
    "\\begin{bmatrix}\n",
    "100 \\\\\n",
    "100 \\\\\n",
    "100 \\\\\n",
    "\\end{bmatrix} \n",
    "$$\n",
    "$$\n",
    "seeking:\n",
    "\\begin{bmatrix}\n",
    "\\delta\\phi \\\\\n",
    "\\delta\\lambda \\\\\n",
    "\\delta h \\\\\n",
    "\\end{bmatrix} \n",
    "$$"
   ]
  },
  {
   "cell_type": "code",
   "execution_count": 45,
   "id": "af18bab73022e921",
   "metadata": {
    "collapsed": false,
    "ExecuteTime": {
     "end_time": "2023-12-09T13:25:43.199008Z",
     "start_time": "2023-12-09T13:25:43.194684Z"
    }
   },
   "outputs": [
    {
     "name": "stdout",
     "output_type": "stream",
     "text": [
      "d_phi = 1.91200717792279\"\n",
      "d_lamda = -4.152464779246721\"\n",
      "d_h = -149.6062159119489 m\n"
     ]
    }
   ],
   "source": [
    "x = np.dot(Omega, np.array([[100], [100], [100]]))\n",
    "d_phi = degrees(x[0][0] / a) * 3600\n",
    "d_lamda = degrees(x[1][0] / (a * np.cos(phi))) * 3600\n",
    "d_h = x[2][0]\n",
    "print(f'd_phi = {d_phi}\"')\n",
    "print(f'd_lamda = {d_lamda}\"')\n",
    "print(f\"d_h = {d_h} m\")\n"
   ]
  },
  {
   "cell_type": "markdown",
   "id": "8d7a0bf7eddaef42",
   "metadata": {
    "collapsed": false
   },
   "source": [
    "---\n",
    "b. $\\delta a = a' - a$\n",
    "$$\n",
    "\\begin{bmatrix}\n",
    "a * \\delta\\phi \\\\\n",
    "a * cos{\\phi}\\delta\\lambda \\\\\n",
    "\\delta h \\\\\n",
    "\\end{bmatrix} \n",
    "= \\Omega (\\phi, \\lambda) \n",
    "\\begin{bmatrix}\n",
    "\\delta x_0 \\\\\n",
    "\\delta y_0 \\\\\n",
    "\\delta z_0 \\\\\n",
    "\\end{bmatrix} \n",
    "= \\Theta (\\phi, \\lambda) \n",
    "\\begin{bmatrix}\n",
    "\\delta a \\\\\n",
    "a * \\delta f \\\\\n",
    "\\end{bmatrix} \n",
    "$$\n",
    "{$\\delta f = 0$}\n",
    "$$\n",
    "seeking:\n",
    "\\begin{bmatrix}\n",
    "\\delta\\phi \\\\\n",
    "\\delta\\lambda \\\\\n",
    "\\delta h \\\\\n",
    "\\end{bmatrix} \n",
    "$$\n"
   ]
  },
  {
   "cell_type": "code",
   "execution_count": 46,
   "id": "c14d75d6f13519fd",
   "metadata": {
    "collapsed": false,
    "ExecuteTime": {
     "end_time": "2023-12-09T13:25:43.203707Z",
     "start_time": "2023-12-09T13:25:43.199167Z"
    }
   },
   "outputs": [
    {
     "name": "stdout",
     "output_type": "stream",
     "text": [
      "d_phi = 0.0\"\n",
      "d_lamda = 0.0\"\n",
      "d_h = 251.0 m\n"
     ]
    }
   ],
   "source": [
    "df = 0\n",
    "da = aprim - a\n",
    "x = np.dot(Theta, np.array([[da], [a * df]]))\n",
    "d_phi = degrees(x[0][0] / a) * 3600\n",
    "d_lamda = degrees(x[1][0] / (a * np.cos(phi))) * 3600\n",
    "d_h = x[2][0]\n",
    "print(f'd_phi = {d_phi}\"')\n",
    "print(f'd_lamda = {d_lamda}\"')\n",
    "print(f\"d_h = {d_h} m\")\n"
   ]
  },
  {
   "cell_type": "markdown",
   "id": "956be5ac9c2a5a1d",
   "metadata": {
    "collapsed": false
   },
   "source": [
    "---\n",
    "\n",
    "c. $\\delta f = f' - f$\n",
    "$$\n",
    "\\begin{bmatrix}\n",
    "a * \\delta\\phi \\\\\n",
    "a * cos{\\phi}\\delta\\lambda \\\\\n",
    "\\delta h \\\\\n",
    "\\end{bmatrix} \n",
    "= \\Omega (\\phi, \\lambda) \n",
    "\\begin{bmatrix}\n",
    "\\delta x_0 \\\\\n",
    "\\delta y_0 \\\\\n",
    "\\delta z_0 \\\\\n",
    "\\end{bmatrix} \n",
    "= \\theta (\\phi, \\lambda) \n",
    "\\begin{bmatrix}\n",
    "\\delta a \\\\\n",
    "a * \\delta f \\\\\n",
    "\\end{bmatrix} \n",
    "$$\n",
    "{$\\delta a = 0$}\n",
    "$$\n",
    "seeking:\n",
    "\\begin{bmatrix}\n",
    "\\delta\\phi \\\\\n",
    "\\delta\\lambda \\\\\n",
    "\\delta h \\\\\n",
    "\\end{bmatrix} \n",
    "$$\n"
   ]
  },
  {
   "cell_type": "code",
   "execution_count": 47,
   "id": "ed2e742a0248d964",
   "metadata": {
    "collapsed": false,
    "ExecuteTime": {
     "end_time": "2023-12-09T13:25:43.236884Z",
     "start_time": "2023-12-09T13:25:43.203454Z"
    }
   },
   "outputs": [
    {
     "name": "stdout",
     "output_type": "stream",
     "text": [
      "d_phi = -2.5352452553799725\"\n",
      "d_lamda = 0.0\"\n",
      "d_h = -67.89478402670402 m\n"
     ]
    }
   ],
   "source": [
    "df = fprim - f\n",
    "da = 0\n",
    "x = np.dot(Theta, np.array([[da], [a * df]]))\n",
    "d_phi = degrees(x[0][0] / a) * 3600\n",
    "d_lamda = degrees(x[1][0] / (a * np.cos(phi))) * 3600\n",
    "d_h = x[2][0]\n",
    "print(f'd_phi = {d_phi}\"')\n",
    "print(f'd_lamda = {d_lamda}\"')\n",
    "print(f\"d_h = {d_h} m\")"
   ]
  },
  {
   "cell_type": "markdown",
   "id": "65fd37dd16f3c676",
   "metadata": {
    "collapsed": false
   },
   "source": [
    "---\n",
    "\n",
    "d. Sum of the above three factors together\n",
    "$$\n",
    "\\begin{bmatrix}\n",
    "a * \\delta\\phi \\\\\n",
    "a * cos{\\phi}\\delta\\lambda \\\\\n",
    "\\delta h \\\\\n",
    "\\end{bmatrix} \n",
    "= \\Omega (\\phi, \\lambda) \n",
    "\\begin{bmatrix}\n",
    "\\delta x_0 \\\\\n",
    "\\delta y_0 \\\\\n",
    "\\delta z_0 \\\\\n",
    "\\end{bmatrix} \n",
    "+ \\theta (\\phi, \\lambda) \n",
    "\\begin{bmatrix}\n",
    "\\delta a \\\\\n",
    "a * \\delta f \\\\\n",
    "\\end{bmatrix} \n",
    "$$\n",
    "$$\n",
    "seeking:\n",
    "\\begin{bmatrix}\n",
    "\\delta\\phi \\\\\n",
    "\\delta\\lambda \\\\\n",
    "\\delta h \\\\\n",
    "\\end{bmatrix} \n",
    "$$"
   ]
  },
  {
   "cell_type": "code",
   "execution_count": 48,
   "id": "f6807ea011dd9aae",
   "metadata": {
    "collapsed": false,
    "ExecuteTime": {
     "end_time": "2023-12-09T13:25:43.238250Z",
     "start_time": "2023-12-09T13:25:43.208521Z"
    }
   },
   "outputs": [
    {
     "name": "stdout",
     "output_type": "stream",
     "text": [
      "d_phi = -0.6232380774571822\"\n",
      "d_lamda = -4.152464779246721\"\n",
      "d_h = 33.49900006134706 m\n"
     ]
    }
   ],
   "source": [
    "df = fprim - f\n",
    "da = aprim - a\n",
    "x = np.dot(Omega, np.array([[100], [100], [100]])) + np.dot(Theta, np.array([[da], [a * df]]))\n",
    "d_phi = degrees(x[0][0] / a) * 3600\n",
    "d_lamda = degrees(x[1][0] / (a * np.cos(phi))) * 3600\n",
    "d_h = x[2][0]\n",
    "print(f'd_phi = {d_phi}\"')\n",
    "print(f'd_lamda = {d_lamda}\"')\n",
    "print(f\"d_h = {d_h} m\")"
   ]
  },
  {
   "cell_type": "markdown",
   "id": "34310429c3e23a3f",
   "metadata": {
    "collapsed": false
   },
   "source": [
    "# Problem 7.2\n",
    "Through GPS observations at a point P, the following geodetic coordinates in SWEREF 99 have been obtained:\n",
    "$$ \\phi = 59\\degree 21' 0.04297'' \\\\\n",
    "\\lambda = 18\\degree 4' 9.30051'' \\\\\n",
    "h = 60.000 metre\n",
    "$$\n",
    "The geoid height of P in $SWEN01L$ has been found to be: $N_{SWEN01L} = 23.193 metre$. Compute: \\\n",
    "\\\n",
    "a. the rectangular coordinates $(X, Y, Z)$ of P in *SWEREF* 99$ \\\n",
    "b. the rectangular coordinates $(X, Y, Z)$ of P in *RT* 90 \\\n",
    "c. the geodetic coordinates $(\\phi, \\lambda)$ of P in *RT* 90 \\\n",
    "d. the planar coordinates $(x,y)$ on the Gauss-Kruger projection plane *RT 90 2.5 gon V* $(\\lambda_0 = 15.808277777\\degree k_0 =1, y_0 =1500km)$ \\\n",
    "e. height above the mean sea level for point *P* in *RH 70*. "
   ]
  },
  {
   "cell_type": "code",
   "execution_count": 49,
   "id": "6c6039f317dfe110",
   "metadata": {
    "collapsed": false,
    "ExecuteTime": {
     "end_time": "2023-12-09T13:25:43.239315Z",
     "start_time": "2023-12-09T13:25:43.212338Z"
    }
   },
   "outputs": [],
   "source": [
    "f = 1 / 298.257222101\n",
    "a = 6378137\n",
    "phi = radians(59 + 21/60 + 0.04297/3600)\n",
    "lambda_ = radians(18 + 4/60 + 9.30051/3600)\n",
    "e2 = 2 * f - f**2\n",
    "N = a / np.sqrt(1 - e2* np.sin(phi)**2)\n",
    "h = 60\n",
    "n = f / (2 - f)"
   ]
  },
  {
   "cell_type": "markdown",
   "id": "05ffec55",
   "metadata": {},
   "source": [
    "---\n",
    "a. the rectangular coordinates $(X, Y, Z)$ of *P* in *SWEREF* 99\n",
    "$$\n",
    "\\begin{bmatrix}\n",
    "x \\\\\n",
    "y \\\\\n",
    "z \\\\\n",
    "\\end{bmatrix}\n",
    "=\n",
    "\\begin{bmatrix}\n",
    "(N + h)cos{\\phi}cos{\\lambda} \\\\\n",
    "(N + h)cos{\\phi}sin{\\lambda} \\\\\n",
    "(N(1 - e^2) + h)sin{\\phi} \\\\\n",
    "\\end{bmatrix}\n",
    "$$\n"
   ]
  },
  {
   "cell_type": "code",
   "execution_count": 50,
   "id": "001344eb",
   "metadata": {
    "ExecuteTime": {
     "end_time": "2023-12-09T13:25:43.239783Z",
     "start_time": "2023-12-09T13:25:43.215804Z"
    }
   },
   "outputs": [
    {
     "name": "stdout",
     "output_type": "stream",
     "text": [
      "x = 3098882.157538699\n",
      "y = 1011030.3371248967\n",
      "z = 5463967.298799875\n"
     ]
    }
   ],
   "source": [
    "sweref = [(N+h) * np.cos(phi) * np.cos(lambda_), (N+h) * np.cos(phi) * np.sin(lambda_), (N * (1-e2) + h) * np.sin(phi)]\n",
    "print(f\"x = {sweref[0]}\")\n",
    "print(f\"y = {sweref[1]}\")\n",
    "print(f\"z = {sweref[2]}\")\n"
   ]
  },
  {
   "cell_type": "markdown",
   "id": "ab426789",
   "metadata": {},
   "source": [
    "---\n",
    "a. the rectangular coordinates $(X, Y, Z)$ of *P* in *SWEREF* 99\n",
    "$$\n",
    "\\begin{bmatrix}\n",
    "x \\\\\n",
    "y \\\\\n",
    "z \\\\\n",
    "\\end{bmatrix}\n",
    "=\n",
    "\\begin{bmatrix}\n",
    "\\delta x \\\\\n",
    "\\delta y \\\\\n",
    "\\delta z \\\\\n",
    "\\end{bmatrix}\n",
    "+ (1+\\delta s) * R(\\alpha_1, \\alpha_2, \\alpha_3) * \n",
    "\\begin{bmatrix}\n",
    "x \\\\\n",
    "y \\\\\n",
    "z \\\\\n",
    "\\end{bmatrix}_{SWEREF99}\n",
    "$$"
   ]
  },
  {
   "cell_type": "code",
   "execution_count": 51,
   "id": "749a178b",
   "metadata": {
    "ExecuteTime": {
     "end_time": "2023-12-09T13:25:43.281262Z",
     "start_time": "2023-12-09T13:25:43.244041Z"
    }
   },
   "outputs": [
    {
     "name": "stdout",
     "output_type": "stream",
     "text": [
      "x = 3098376.9113403177\n",
      "y = 1011071.8543340124\n",
      "z = 5463400.598022627\n"
     ]
    }
   ],
   "source": [
    "dx = -414.0979\n",
    "dy = -41.3381\n",
    "dz = -603.0627\n",
    "ds = 0\n",
    "s = 1+ds\n",
    "a1 = radians(-0.8550434314/3600)\n",
    "a2 = radians(2.1413465185/3600)\n",
    "a3 = radians(-7.0227209516/3600)\n",
    "R = R_transformation(a1, a2, a3)\n",
    "sweref = np.array([[sweref[0]], [sweref[1]], [sweref[2]]])\n",
    "rt90 = np.array([[dx], [dy], [dz]]) + s * np.dot(R, sweref)\n",
    "print(f\"x = {rt90[0][0]}\")\n",
    "print(f\"y = {rt90[1][0]}\")\n",
    "print(f\"z = {rt90[2][0]}\")\n"
   ]
  },
  {
   "cell_type": "markdown",
   "id": "62beffa5",
   "metadata": {},
   "source": [
    "---\n",
    "c. the geodetic coordinates $(\\phi, \\lambda)$ of *P* in *RT* 90\n"
   ]
  },
  {
   "cell_type": "code",
   "execution_count": 52,
   "id": "97a5609f",
   "metadata": {
    "ExecuteTime": {
     "end_time": "2023-12-09T13:25:43.304558Z",
     "start_time": "2023-12-09T13:25:43.284459Z"
    }
   },
   "outputs": [
    {
     "name": "stdout",
     "output_type": "stream",
     "text": [
      "x = 3098376.9113403177\n",
      "y = 1011071.8543340124\n",
      "z = 5463400.598022627\n",
      "latitude = 59.35050571633702 degrees\n",
      "latitude = 59 degrees 21' 1.8205788132656497''\n",
      "longitude = 18.07269895751198 degrees\n",
      "longitude = 18 degrees 4' 21.71624704313388''\n"
     ]
    }
   ],
   "source": [
    "x, y, z = rt90[0][0], rt90[1][0], rt90[2][0]\n",
    "print(f\"x = {x}\")\n",
    "print(f\"y = {y}\")\n",
    "print(f\"z = {z}\")\n",
    "Bessel = 6377397, 299.15\n",
    "latitude, longitude, h = geocentric_to_geodetic(Bessel, x, y, z)\n",
    "print(f\"latitude = {latitude} degrees\")\n",
    "lat_deg, lat_min, lat_sec = convert_to_degrees_minutes_seconds(latitude)\n",
    "print(f\"latitude = {lat_deg} degrees {lat_min}' {lat_sec}''\")\n",
    "print(f\"longitude = {longitude} degrees\")\n",
    "lon_deg, lon_min, lon_sec = convert_to_degrees_minutes_seconds(longitude)\n",
    "print(f\"longitude = {lon_deg} degrees {lon_min}' {lon_sec}''\")"
   ]
  },
  {
   "cell_type": "markdown",
   "id": "31d3d0a5",
   "metadata": {},
   "source": [
    "---\n",
    "d. the planar coordinates $(x,y)$ on the Gauss-Kruger projection plane *RT 90 2.5 gon V* $(\\lambda_0 = 15.808277777\\degree k_0 =1, y_0 =1500km)$"
   ]
  },
  {
   "cell_type": "code",
   "execution_count": 53,
   "id": "0c5d8a31",
   "metadata": {
    "ExecuteTime": {
     "end_time": "2023-12-09T13:25:43.342408Z",
     "start_time": "2023-12-09T13:25:43.307744Z"
    }
   },
   "outputs": [
    {
     "name": "stdout",
     "output_type": "stream",
     "text": [
      "x = 6721137.1723227305 meters\n",
      "y = 1519632.04504989 meters\n"
     ]
    }
   ],
   "source": [
    "# Define the projection parameters\n",
    "central_meridian = 15.808277777  # Central meridian in degrees\n",
    "scale_factor = 1  # Scale factor\n",
    "longitude_0 = 0\n",
    "\n",
    "x, y = transverse_mercator_projection_for_ellipsoid(central_meridian, longitude_0, latitude, longitude, Bessel, scale_factor)\n",
    "# Print the projected coordinates\n",
    "print(f'x = {x} meters')\n",
    "print(f'y = {y} meters')"
   ]
  },
  {
   "cell_type": "markdown",
   "id": "4c43d363",
   "metadata": {},
   "source": [
    "---\n",
    "e. height above the mean sea level for point *P* in *RH 70*.\n",
    "$$H = h - N_{SWE} = 60 - 23.193 = 36.807 m$$"
   ]
  },
  {
   "cell_type": "code",
   "execution_count": 54,
   "id": "1a7cd41f",
   "metadata": {
    "ExecuteTime": {
     "end_time": "2023-12-09T13:25:43.343157Z",
     "start_time": "2023-12-09T13:25:43.311609Z"
    }
   },
   "outputs": [
    {
     "name": "stdout",
     "output_type": "stream",
     "text": [
      "H = 36.807 meters\n"
     ]
    }
   ],
   "source": [
    "N_SWE = 23.193\n",
    "h = 60\n",
    "H = h - N_SWE\n",
    "print(f\"H = {H} meters\")\n"
   ]
  },
  {
   "cell_type": "markdown",
   "id": "60ad575c647d1b8f",
   "metadata": {
    "collapsed": false
   },
   "source": [
    "# Problem 7.3\n",
    "\n",
    "\n",
    "A point P lies on the equator with dynamic height $H_d = 100.000 metre$. The mean normal gravity at the equator and at latitude $45\\degree$ are: $\\gamma_e = 978.0 Gal, \\gamma_{45} = 980.6 Gal$. How much will the dynamic height at *P* differ from its normal height ?\n"
   ]
  },
  {
   "cell_type": "markdown",
   "id": "47e65565",
   "metadata": {},
   "source": [
    "$$ C_p = \\gamma_0 * H_d = \\gamma_{45} * H_d = 98060 \\\\ \n",
    "\\\\\n",
    "H^* = \\frac{C_p}{\\gamma_e} = 100.2658 m \\\\\n",
    "H_d - H^* = -0.2658m $$"
   ]
  },
  {
   "cell_type": "code",
   "execution_count": 55,
   "id": "4c66d461ed13cb7",
   "metadata": {
    "collapsed": false,
    "ExecuteTime": {
     "end_time": "2023-12-09T13:25:43.353084Z",
     "start_time": "2023-12-09T13:25:43.347112Z"
    }
   },
   "outputs": [
    {
     "name": "stdout",
     "output_type": "stream",
     "text": [
      "Cp = 98060.0\n",
      "H_st = 100.2658 m\n",
      "diff = -0.2658 m\n"
     ]
    }
   ],
   "source": [
    "Hd = 100\n",
    "gammae_e = 978.0\n",
    "gamma_45 = 980.6\n",
    "gamma_0 = gamma_45\n",
    "Cp = gamma_0 * Hd\n",
    "print(f\"Cp = {Cp}\")\n",
    "H_st = Cp / gammae_e\n",
    "print(f\"H_st = {H_st:.4f} m\")\n",
    "diff = Hd - H_st\n",
    "print(f\"diff = {diff:.4f} m\")\n"
   ]
  },
  {
   "cell_type": "markdown",
   "id": "43874f98",
   "metadata": {},
   "source": [
    "# Problem 7.4\n",
    "Between a fixed benchmark *A* and an unknown point *B*, levelling and gravity measurements have been made with the following results for height differences $\\Delta h_i$ and gravity $g_i (i = 1, 2, 3, 4)$:\n",
    "\n",
    "| i | $\\Delta h_i (metre)$       |    $g_i (m/s^2)$     |\n",
    "|---|--------|---------|\n",
    "| 1 | -1.010 | 9.80372 |\n",
    "| 2 | -1.511 | 9.80312 |\n",
    "| 3 | +0.307 | 9.80320 |\n",
    "| 4 | +2.032 | 9.80067 |\n",
    "\n",
    "Benchmark *A* has normal height $H^*_A = 20.000 metre$. The mean gravity at A, B are $\\bar{\\gamma_A} = 9.80000 m/s^2, \\bar{\\gamma_A} = 9.79820 m/s^2$. Calculate:\n",
    "\n",
    "a. geopotential number $(C_A)$ at *A*; \\\n",
    "\\\n",
    "b. geometrical height difference $(\\Delta h_{AB})$ from *A* to *B* ; \\\n",
    "\\\n",
    "c. difference $(\\Delta C_{AB})$ between geopotential numbers at *A* to *B* ; \\\n",
    "\\\n",
    "d. geopotential number $(C_B)$ at *B*; \\\n",
    "\\\n",
    "e. normal height $(H^*_B)$ at *B* ; \\\n",
    "\\\n",
    "f. normal height difference $(\\Delta H^*_{AB})$ from *A* to *B* ; \\\n",
    "\\\n",
    "g. difference between the geometrical and the normal height differences between *A* and *B*.\n"
   ]
  },
  {
   "cell_type": "code",
   "execution_count": 56,
   "id": "beb4c8e4",
   "metadata": {
    "ExecuteTime": {
     "end_time": "2023-12-09T13:25:43.362038Z",
     "start_time": "2023-12-09T13:25:43.354792Z"
    }
   },
   "outputs": [],
   "source": [
    "Hst_A = 20\n",
    "mean_gamma_A = 9.8\n",
    "mean_gamma_B = 9.79820\n",
    "delta_h = [-1.010, -1.511, 0.307, 2.032]\n",
    "g = [9.80372, 9.80312, 9.80320, 9.80067]"
   ]
  },
  {
   "cell_type": "markdown",
   "id": "136f78d5",
   "metadata": {},
   "source": [
    "---\n",
    "a. geopotential number $(C_A)$ at *A*\n",
    "$$ C_A = H^*_A * \\bar{\\gamma_A} = 20.000 * 9.80000 = 196.000 $$"
   ]
  },
  {
   "cell_type": "code",
   "execution_count": 57,
   "id": "cc508864b77efbd3",
   "metadata": {
    "collapsed": false,
    "ExecuteTime": {
     "end_time": "2023-12-09T13:25:43.362616Z",
     "start_time": "2023-12-09T13:25:43.357013Z"
    }
   },
   "outputs": [
    {
     "name": "stdout",
     "output_type": "stream",
     "text": [
      "C_A = 196.0\n"
     ]
    }
   ],
   "source": [
    "C_A = Hst_A * mean_gamma_A\n",
    "print(f\"C_A = {C_A}\")"
   ]
  },
  {
   "cell_type": "markdown",
   "id": "def7a6e7",
   "metadata": {},
   "source": [
    "---\n",
    "b. geometrical height difference $(\\Delta h_{AB})$ from *A* to *B*\n",
    "$$ \\Delta h_{AB} = \\sum_{i=1}^{4} \\Delta h_i = -0.182 metre $$"
   ]
  },
  {
   "cell_type": "code",
   "execution_count": 58,
   "id": "d764f6f5",
   "metadata": {
    "ExecuteTime": {
     "end_time": "2023-12-09T13:25:43.405573Z",
     "start_time": "2023-12-09T13:25:43.364330Z"
    }
   },
   "outputs": [
    {
     "name": "stdout",
     "output_type": "stream",
     "text": [
      "delta_h_AB = -0.18199999999999994\n"
     ]
    }
   ],
   "source": [
    "delta_h_AB = np.sum(delta_h)\n",
    "print(f\"delta_h_AB = {delta_h_AB}\")"
   ]
  },
  {
   "cell_type": "markdown",
   "id": "9c8d2c57",
   "metadata": {},
   "source": [
    "---\n",
    "c. difference $(\\Delta C_{AB})$ between geopotential numbers at *A* to *B*\n",
    "$$ \\Delta C_{AB} = \\sum_{i=1}^{4} \\Delta h_i * g_i = -1.783 $$"
   ]
  },
  {
   "cell_type": "code",
   "execution_count": 59,
   "id": "43b616e1",
   "metadata": {
    "ExecuteTime": {
     "end_time": "2023-12-09T13:25:43.406485Z",
     "start_time": "2023-12-09T13:25:43.368386Z"
    }
   },
   "outputs": [
    {
     "name": "stdout",
     "output_type": "stream",
     "text": [
      "delta_C_AB = -1.7897\n"
     ]
    }
   ],
   "source": [
    "delta_C_AB = np.sum([delta_h[i] * g[i] for i in range(len(g))])\n",
    "print(f\"delta_C_AB = {delta_C_AB:.4f}\")"
   ]
  },
  {
   "cell_type": "markdown",
   "id": "3941cd0f",
   "metadata": {},
   "source": [
    "---\n",
    "d. geopotential number $(C_B)$ at *B*\n",
    "$$ C_B = C_A + \\Delta C_{AB} = 194.2103 $$"
   ]
  },
  {
   "cell_type": "code",
   "execution_count": 60,
   "id": "9feb7e71",
   "metadata": {
    "ExecuteTime": {
     "end_time": "2023-12-09T13:25:43.436589Z",
     "start_time": "2023-12-09T13:25:43.408974Z"
    }
   },
   "outputs": [
    {
     "name": "stdout",
     "output_type": "stream",
     "text": [
      "C_B = 194.2103\n"
     ]
    }
   ],
   "source": [
    "C_B = C_A + delta_C_AB\n",
    "print(f\"C_B = {C_B:.4f}\")"
   ]
  },
  {
   "cell_type": "markdown",
   "id": "75084d39",
   "metadata": {},
   "source": [
    "---\n",
    "e. normal height $(H^*_B)$ at *B*\n",
    "$$ H^*_B = C_B / \\bar{\\gamma_B} = 19.8210 metre $$"
   ]
  },
  {
   "cell_type": "code",
   "execution_count": 61,
   "id": "55aa0644",
   "metadata": {
    "ExecuteTime": {
     "end_time": "2023-12-09T13:25:43.457321Z",
     "start_time": "2023-12-09T13:25:43.437567Z"
    }
   },
   "outputs": [
    {
     "name": "stdout",
     "output_type": "stream",
     "text": [
      "Hst_B = 19.8210\n"
     ]
    }
   ],
   "source": [
    "Hst_B = C_B / mean_gamma_B\n",
    "print(f\"Hst_B = {Hst_B:.4f}\")"
   ]
  },
  {
   "cell_type": "markdown",
   "id": "38986414",
   "metadata": {},
   "source": [
    "---\n",
    "f. normal height difference $(\\Delta H^*_{AB})$ from *A* to *B*\n",
    "$$ \\Delta H^*_{AB} = H^*_B - H^*_A = -0.1790 metre $$"
   ]
  },
  {
   "cell_type": "code",
   "execution_count": 62,
   "id": "e029f4a2",
   "metadata": {
    "ExecuteTime": {
     "end_time": "2023-12-09T13:25:43.485959Z",
     "start_time": "2023-12-09T13:25:43.459226Z"
    }
   },
   "outputs": [
    {
     "name": "stdout",
     "output_type": "stream",
     "text": [
      "delta_H_st_AB = -0.1790\n"
     ]
    }
   ],
   "source": [
    "delta_H_st_AB = Hst_B - Hst_A\n",
    "print(f\"delta_H_st_AB = {delta_H_st_AB:.4f}\")"
   ]
  },
  {
   "cell_type": "markdown",
   "id": "da4a895c",
   "metadata": {},
   "source": [
    "---\n",
    "g. difference between the geometrical and the normal height differences between *A* and *B*.\n",
    "$$ \\Delta h_{AB} - \\Delta H^*_{AB} = -0.003015321 metre $$"
   ]
  },
  {
   "cell_type": "code",
   "execution_count": 63,
   "id": "0681163b",
   "metadata": {
    "ExecuteTime": {
     "end_time": "2023-12-09T13:25:43.486527Z",
     "start_time": "2023-12-09T13:25:43.463028Z"
    }
   },
   "outputs": [
    {
     "name": "stdout",
     "output_type": "stream",
     "text": [
      "x = -0.003015321\n"
     ]
    }
   ],
   "source": [
    "x = delta_h_AB - delta_H_st_AB\n",
    "print(f\"x = {x:.9f}\")"
   ]
  }
 ],
 "metadata": {
  "kernelspec": {
   "display_name": "Python 3",
   "language": "python",
   "name": "python3"
  },
  "language_info": {
   "codemirror_mode": {
    "name": "ipython",
    "version": 3
   },
   "file_extension": ".py",
   "mimetype": "text/x-python",
   "name": "python",
   "nbconvert_exporter": "python",
   "pygments_lexer": "ipython3",
   "version": "3.10.12"
  }
 },
 "nbformat": 4,
 "nbformat_minor": 5
}
